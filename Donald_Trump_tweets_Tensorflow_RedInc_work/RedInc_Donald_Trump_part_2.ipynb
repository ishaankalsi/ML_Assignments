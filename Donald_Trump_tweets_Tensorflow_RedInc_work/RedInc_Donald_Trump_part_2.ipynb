{
 "cells": [
  {
   "cell_type": "code",
   "execution_count": 10,
   "metadata": {},
   "outputs": [],
   "source": [
    "import numpy as np\n",
    "import pandas as pd\n",
    "import re "
   ]
  },
  {
   "cell_type": "code",
   "execution_count": 2,
   "metadata": {},
   "outputs": [],
   "source": [
    "data_csv=pd.read_csv('/home/ishaan/Jupyter_direc/Assignments/Donald_Trump_tweets_Tensorflow_RedInc_work/data.csv')"
   ]
  },
  {
   "cell_type": "code",
   "execution_count": 13,
   "metadata": {},
   "outputs": [
    {
     "ename": "SyntaxError",
     "evalue": "invalid syntax (<ipython-input-13-49c7939b67ad>, line 15)",
     "output_type": "error",
     "traceback": [
      "\u001b[0;36m  File \u001b[0;32m\"<ipython-input-13-49c7939b67ad>\"\u001b[0;36m, line \u001b[0;32m15\u001b[0m\n\u001b[0;31m    if (dt_str==\"donaldtrump\",dt_str==\"Donaldtrump\",dt_str==\"donaldTrump\",dt_str==\"DonaldTrump\",dt_str=\"DONALDTRUMP\"\u001b[0m\n\u001b[0m                                                                                                      ^\u001b[0m\n\u001b[0;31mSyntaxError\u001b[0m\u001b[0;31m:\u001b[0m invalid syntax\n"
     ]
    }
   ],
   "source": [
    "#use text key to find reference o donald trump\n",
    "#count number of accounts tweeting about donald trump then calculate percentage\n",
    "#order account by frequency of tweets about Donald trump\n",
    "def acc_list(data_csv):\n",
    "    account_list=[]\n",
    "    rows=data_csv.values.shape[0]\n",
    "    \n",
    "    for row in range (rows):\n",
    "        cur_str=data_csv['text'].values[row]\n",
    "\n",
    "        #print (type(data_csv['text'].values[0]))\n",
    "        '''for i in (data_csv['text'].values[0]):\n",
    "            cur_str=data_csv['text'].values[0].split[\" \"]'''\n",
    "\n",
    "        word_list=re.split('\\W+',cur_str)\n",
    "        #print (word_list)\n",
    "        for idx in range(len(word_list)):\n",
    "            dt_str=word_list[idx]\n",
    "            dt_str2=word_list[idx+1]\n",
    "            if (dt_str==\"donaldtrump\" or dt_str==\"Donaldtrump\" or dt_str==\"donaldTrump\" or dt_str==\"DonaldTrump\",\n",
    "                dt_str=\"DONALDTRUMP\"):\n",
    "                account_list.append(data_csv['id'].values[row])\n",
    "            elif(dt_str==\"donald\" or dt_str==\"Donald\" or dt_str== \"DONALD\"):\n",
    "                if(dt_str2==\"trump\" or dt_str2==\"Trump\" or dt_str2==\"TRUMP\" ):\n",
    "                    account_list.append(data_csv['id'].values[row])\n",
    "                else:\n",
    "                    continue\n",
    "            else:\n",
    "                continue\n",
    "                \n",
    "        return account_list"
   ]
  },
  {
   "cell_type": "code",
   "execution_count": 14,
   "metadata": {},
   "outputs": [],
   "source": [
    "def total_acc_twt(account_list):\n",
    "    unique_acc_list=np.unique(account_list)\n",
    "    return (unique_acc_list.shape)"
   ]
  },
  {
   "cell_type": "code",
   "execution_count": null,
   "metadata": {},
   "outputs": [],
   "source": [
    "def acc_list_ordby_twt(account_list):\n",
    "    "
   ]
  },
  {
   "cell_type": "code",
   "execution_count": 5,
   "metadata": {},
   "outputs": [
    {
     "name": "stdout",
     "output_type": "stream",
     "text": [
      "[0, 1, 2, 3, 4, 5, 6, 7, 8, 9]\n"
     ]
    }
   ],
   "source": [
    "llist=[]\n",
    "\n",
    "for i in range(10):\n",
    "    llist.append(i)\n",
    "print(llist)\n",
    "\n"
   ]
  },
  {
   "cell_type": "code",
   "execution_count": null,
   "metadata": {},
   "outputs": [],
   "source": []
  }
 ],
 "metadata": {
  "kernelspec": {
   "display_name": "Python 3",
   "language": "python",
   "name": "python3"
  },
  "language_info": {
   "codemirror_mode": {
    "name": "ipython",
    "version": 3
   },
   "file_extension": ".py",
   "mimetype": "text/x-python",
   "name": "python",
   "nbconvert_exporter": "python",
   "pygments_lexer": "ipython3",
   "version": "3.6.4"
  }
 },
 "nbformat": 4,
 "nbformat_minor": 2
}
