{
 "cells": [
  {
   "cell_type": "code",
   "execution_count": 1,
   "metadata": {},
   "outputs": [],
   "source": [
    "#combine post from 1/11/2017 to 3/11/2017\n",
    "\n",
    "import numpy as np\n",
    "import pandas as pd\n"
   ]
  },
  {
   "cell_type": "code",
   "execution_count": 2,
   "metadata": {},
   "outputs": [],
   "source": [
    "DT_f1=pd.read_csv('/home/ishaan/Codes/Datasets/socialmediadata-tweets-of-congress-november/data/2017_11_01.csv')\n",
    "DT_f2=pd.read_csv('/home/ishaan/Codes/Datasets/socialmediadata-tweets-of-congress-november/data/2017_11_02.csv')\n",
    "DT_f3=pd.read_csv('/home/ishaan/Codes/Datasets/socialmediadata-tweets-of-congress-november/data/2017_11_03.csv')\n"
   ]
  },
  {
   "cell_type": "code",
   "execution_count": 3,
   "metadata": {},
   "outputs": [
    {
     "name": "stdout",
     "output_type": "stream",
     "text": [
      "(3483, 7)\n",
      "(3577, 7)\n",
      "(2151, 7)\n",
      "<class 'numpy.ndarray'>\n",
      "[[925586955978420224 'RepJimmyGomez' 2371339658 ...\n",
      "  'https://www.twitter.com/RepJimmyGomez/statuses/925586955978420224'\n",
      "  \"#game7 We're ready! https://twitter.com/dodgers/status/925581315251978240 QT @Dodgers .@ClaytonKersh22 is ready. #WorldSeries http://pbs.twimg.com/media/DNhSuYxXkAEyCG2.jpg\"\n",
      "  'Twitter for iPhone']\n",
      " [925585461354967040 'DeanHeller' 41363507 ...\n",
      "  'https://www.twitter.com/SenDeanHeller/statuses/925555660187676674'\n",
      "  'RT @SenDeanHeller Tragic news out of Marigold Mine. My staff and I are closely monitoring the situation.'\n",
      "  'TweetDeck']\n",
      " [925584817080582144 'DeanHeller' 41363507 ...\n",
      "  'https://www.twitter.com/DeanHeller/statuses/925584817080582144'\n",
      "  \"@KevinSilsby @POTUS I agree. That's why I'm pushing Senate Leadership to keep the senate running 24/7 to get things done.\"\n",
      "  'TweetDeck']\n",
      " ...\n",
      " [925922190897315840 'BenSasse' 1480852568 ...\n",
      "  'https://www.twitter.com/darrenrovell/statuses/925921015917670400'\n",
      "  'RT @darrenrovell Vin Scully tattoo at Dodger Stadium tonight. http://pbs.twimg.com/media/DNmIQXUXcAAQcsu.jpg'\n",
      "  'Twitter for Android']\n",
      " [925921424690307073 'TeamSheaPorter' 154139987 ...\n",
      "  'https://www.twitter.com/TeamSheaPorter/statuses/925921424690307073'\n",
      "  'Analysis | How Russian trolls got into your Facebook feed http://wapo.st/2gTBn6W?tid=ss_tw&utm_term=.ac248f341fd7'\n",
      "  'Twitter Web Client']\n",
      " [925921360811094016 'RepCohen' 162069635 ...\n",
      "  'https://www.twitter.com/RepCohen/statuses/925504004091760640'\n",
      "  'RT @RepCohen Constitutional Amendment I filed today is now bipartisan, would stop presidents from pardoning themselves, family&amp;aides #ManafortIndictment http://pbs.twimg.com/ext_tw_video_thumb/925503200240730114/pu/img/Ig2rEw6s7VF1uDrC.jpg https://video.twimg.com/ext_tw_video/925503200240730114/pu/vid/1280x720/fF8FWchEwlXmv1d4.mp4'\n",
      "  'Twitter for iPhone']]\n",
      "3483\n"
     ]
    },
    {
     "data": {
      "text/plain": [
       "925585461354967040"
      ]
     },
     "execution_count": 3,
     "metadata": {},
     "output_type": "execute_result"
    }
   ],
   "source": [
    "#just read 1 csv and look at data\n",
    "#keys are ----  id  screen_name    user_id   time   link   text  source\n",
    "#dataframe is of shape(3483, 7) above 7 are column names but can only be accessed by index in df\n",
    "#DT_f1.values[row][column]\n",
    "print (DT_f1.shape)\n",
    "print (DT_f2.shape)\n",
    "print (DT_f3.shape)\n",
    "#DT_f1.keys\n",
    "print (type(DT_f1.values)) \n",
    "DT_f1.values[0][0]\n",
    "#print (DT_f1['id'])\n",
    "print (DT_f1.values)\n",
    "print (DT_f1.values.shape[0])\n",
    "DT_f1.values[1][0]"
   ]
  },
  {
   "cell_type": "code",
   "execution_count": 11,
   "metadata": {},
   "outputs": [
    {
     "name": "stdout",
     "output_type": "stream",
     "text": [
      "(9211, 7)\n",
      "0       925586955978420224\n",
      "1       925585461354967040\n",
      "2       925584817080582144\n",
      "3       925584185321963520\n",
      "4       925577934680629248\n",
      "5       925575120755806208\n",
      "6       925574931806638080\n",
      "7       925573894169354240\n",
      "8       925573758873677824\n",
      "9       925573669337870336\n",
      "10      925601799783923712\n",
      "11      925601033593659392\n",
      "12      925591680752996352\n",
      "13      925606449664761856\n",
      "14      925634016405008384\n",
      "15      925676381912133632\n",
      "16      925675861436661760\n",
      "17      925673824452005888\n",
      "18      925668074933583872\n",
      "19      925667398094675968\n",
      "20      925694244794322944\n",
      "21      925694083191930880\n",
      "22      925694008629841932\n",
      "23      925693922529050624\n",
      "24      925693911313432577\n",
      "25      925693769583874049\n",
      "26      925693708904919040\n",
      "27      925693226098585600\n",
      "28      925693069617491968\n",
      "29      925692861907128321\n",
      "               ...        \n",
      "9181    926630577951797248\n",
      "9182    926644620058087429\n",
      "9183    926644597907898369\n",
      "9184    926644195934085120\n",
      "9185    926643582991077376\n",
      "9186    926642831569154048\n",
      "9187    926642033514594304\n",
      "9188    926641497004417025\n",
      "9189    926640268320927744\n",
      "9190    926638334599983104\n",
      "9191    926637638597185536\n",
      "9192    926637628233076738\n",
      "9193    926637380097806336\n",
      "9194    926637217027645440\n",
      "9195    926637122735370240\n",
      "9196    926636325981249539\n",
      "9197    926636215343992832\n",
      "9198    926635837663539205\n",
      "9199    926635820890644481\n",
      "9200    926635784450568192\n",
      "9201    926635763734892544\n",
      "9202    926635554833387520\n",
      "9203    926635172979556352\n",
      "9204    926635152465453056\n",
      "9205    926655118086307840\n",
      "9206    926654635061870594\n",
      "9207    926653937859534848\n",
      "9208    926652372746735616\n",
      "9209    926650714566389760\n",
      "9210    926659773495472128\n",
      "Name: id, Length: 9211, dtype: int64\n"
     ]
    }
   ],
   "source": [
    "df_total_rows=DT_f1.values.shape[0] + DT_f2.values.shape[0] + DT_f3.values.shape[0]\n",
    "df_total=pd.DataFrame({'id':[0 for i in range(df_total_rows) ],'screen_name':[\"\" for i in range(df_total_rows)]\n",
    "                       ,'user_id':[0 for i in range(df_total_rows)],'time':[\"\" for i in range(df_total_rows)]\n",
    "                       ,'link':[\"\" for i in range(df_total_rows)],'text':[\"\" for i in range(df_total_rows)]\n",
    "                       ,'source':[\"\" for i in range(df_total_rows)]})\n",
    "print (df_total.shape)\n",
    "#df_total.shape[0]=DT_f1.shape[0] + DT_f2.shape[0] + DT_f3.shape[0]\n",
    "for i in range(DT_f1.values.shape[0]):\n",
    "    df_total['id'].values[i]=DT_f1.values[i][0]\n",
    "    df_total['screen_name'].values[i]=DT_f1.values[i][1]\n",
    "    df_total['user_id'].values[i]=DT_f1.values[i][2]\n",
    "    df_total['time'].values[i]=DT_f1.values[i][3]\n",
    "    df_total['link'].values[i]=DT_f1.values[i][4]\n",
    "    df_total['text'].values[i]=DT_f1.values[i][5]\n",
    "    df_total['source'].values[i]=DT_f1.values[i][6]\n",
    "    \n",
    "for i in range(DT_f2.values.shape[0]):\n",
    "    cur_idx=DT_f1.values.shape[0]+i\n",
    "    df_total['id'].values[cur_idx]=DT_f2.values[i][0]\n",
    "    df_total['screen_name'].values[cur_idx]=DT_f2.values[i][1]\n",
    "    df_total['user_id'].values[cur_idx]=DT_f2.values[i][2]\n",
    "    df_total['time'].values[cur_idx]=DT_f2.values[i][3]\n",
    "    df_total['link'].values[cur_idx]=DT_f2.values[i][4]\n",
    "    df_total['text'].values[cur_idx]=DT_f2.values[i][5]\n",
    "    df_total['source'].values[cur_idx]=DT_f2.values[i][6]\n",
    "    \n",
    "for i in range(DT_f3.values.shape[0]):\n",
    "    cur_idx=DT_f1.values.shape[0]+DT_f2.values.shape[0]+i\n",
    "    df_total['id'].values[cur_idx]=DT_f3.values[i][0]\n",
    "    df_total['screen_name'].values[cur_idx]=DT_f3.values[i][1]\n",
    "    df_total['user_id'].values[cur_idx]=DT_f3.values[i][2]\n",
    "    df_total['time'].values[cur_idx]=DT_f3.values[i][3]\n",
    "    df_total['link'].values[cur_idx]=DT_f3.values[i][4]\n",
    "    df_total['text'].values[cur_idx]=DT_f3.values[i][5]\n",
    "    df_total['source'].values[cur_idx]=DT_f3.values[i][6]\n",
    "    \n",
    "#df_total['id']=DT_f1['id']+DT_f2['id']+DT_f3['id']\n",
    "print (df_total['id'])"
   ]
  },
  {
   "cell_type": "code",
   "execution_count": 7,
   "metadata": {},
   "outputs": [
    {
     "name": "stdout",
     "output_type": "stream",
     "text": [
      "925852297422409728\n"
     ]
    }
   ],
   "source": [
    "print (DT_f1['id'].values[3000])"
   ]
  },
  {
   "cell_type": "code",
   "execution_count": 14,
   "metadata": {},
   "outputs": [],
   "source": [
    "#create csv with  all this data\n",
    "\n",
    "#Straight away write datafrme to csv\n",
    "\n",
    "df_total.to_csv('/home/ishaan/Jupyter_direc/Assignments/Donald_Trump_tweets_Tensorflow_RedInc_work/data.csv',index=False)\n"
   ]
  },
  {
   "cell_type": "code",
   "execution_count": null,
   "metadata": {},
   "outputs": [],
   "source": []
  }
 ],
 "metadata": {
  "kernelspec": {
   "display_name": "Python 3",
   "language": "python",
   "name": "python3"
  },
  "language_info": {
   "codemirror_mode": {
    "name": "ipython",
    "version": 3
   },
   "file_extension": ".py",
   "mimetype": "text/x-python",
   "name": "python",
   "nbconvert_exporter": "python",
   "pygments_lexer": "ipython3",
   "version": "3.6.4"
  }
 },
 "nbformat": 4,
 "nbformat_minor": 2
}
