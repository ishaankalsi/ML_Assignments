{
 "cells": [
  {
   "cell_type": "code",
   "execution_count": 2,
   "metadata": {
    "collapsed": true
   },
   "outputs": [],
   "source": [
    "from xlrd import open_workbook\n",
    "import pandas as pd\n",
    "#import xlutils.copy as copy"
   ]
  },
  {
   "cell_type": "code",
   "execution_count": 3,
   "metadata": {
    "collapsed": true
   },
   "outputs": [],
   "source": [
    "def _urls(cell):\n",
    "    cell=\"https://www.sec.gov/Archives/\"+cell\n",
    "    return cell\n"
   ]
  },
  {
   "cell_type": "code",
   "execution_count": 4,
   "metadata": {
    "collapsed": true
   },
   "outputs": [],
   "source": [
    "def _CIKS(cell):\n",
    "    cell=\"000000\"+str(cell)\n",
    "    cell=int(cell)\n",
    "    return cell"
   ]
  },
  {
   "cell_type": "code",
   "execution_count": 5,
   "metadata": {},
   "outputs": [
    {
     "name": "stdout",
     "output_type": "stream",
     "text": [
      "       CIK                      CONAME   FYRMO      FDATE     FORM  \\\n",
      "0     3662            SUNBEAM CORP/FL/  199803 1998-03-06  10-K405   \n",
      "1     3662            SUNBEAM CORP/FL/  199805 1998-05-15     10-Q   \n",
      "2     3662            SUNBEAM CORP/FL/  199808 1998-08-13  NT 10-Q   \n",
      "3     3662            SUNBEAM CORP/FL/  199811 1998-11-12   10-K/A   \n",
      "4     3662            SUNBEAM CORP/FL/  199811 1998-11-16  NT 10-Q   \n",
      "5     3662            SUNBEAM CORP/FL/  199811 1998-11-25   10-Q/A   \n",
      "6     3662            SUNBEAM CORP/FL/  199812 1998-12-22     10-Q   \n",
      "7     3662            SUNBEAM CORP/FL/  199812 1998-12-22     10-Q   \n",
      "8     3662            SUNBEAM CORP/FL/  199903 1999-03-31  NT 10-K   \n",
      "9     3662            SUNBEAM CORP/FL/  199905 1999-05-11     10-K   \n",
      "10    3662            SUNBEAM CORP/FL/  199905 1999-05-17  NT 10-Q   \n",
      "11    3662            SUNBEAM CORP/FL/  199906 1999-06-11     10-Q   \n",
      "12    3662            SUNBEAM CORP/FL/  199908 1999-08-16  NT 10-Q   \n",
      "13    3662            SUNBEAM CORP/FL/  199908 1999-08-19     10-Q   \n",
      "14    3662            SUNBEAM CORP/FL/  199911 1999-11-08   10-K/A   \n",
      "15    3662            SUNBEAM CORP/FL/  199911 1999-11-08   10-Q/A   \n",
      "16    3662            SUNBEAM CORP/FL/  199911 1999-11-08   10-Q/A   \n",
      "17    3662            SUNBEAM CORP/FL/  199911 1999-11-15  NT 10-Q   \n",
      "18    3662            SUNBEAM CORP/FL/  199911 1999-11-19     10-Q   \n",
      "19    3982  ALLIS CHALMERS ENERGY INC.  200603 2006-03-22     10-K   \n",
      "20    3982  ALLIS CHALMERS ENERGY INC.  200605 2006-05-01   10-K/A   \n",
      "21    3982  ALLIS CHALMERS ENERGY INC.  200605 2006-05-10     10-Q   \n",
      "22    3982  ALLIS CHALMERS ENERGY INC.  200607 2006-07-24   10-K/A   \n",
      "23    3982  ALLIS CHALMERS ENERGY INC.  200607 2006-07-24   10-Q/A   \n",
      "24    3982  ALLIS CHALMERS ENERGY INC.  200608 2006-08-14     10-Q   \n",
      "25    3982  ALLIS CHALMERS ENERGY INC.  200611 2006-11-08     10-Q   \n",
      "26    3982  ALLIS CHALMERS ENERGY INC.  200612 2006-12-29   10-Q/A   \n",
      "27    3982  ALLIS CHALMERS ENERGY INC.  200703 2007-03-15     10-K   \n",
      "28    3982  ALLIS CHALMERS ENERGY INC.  200705 2007-05-10     10-Q   \n",
      "29    3982  ALLIS CHALMERS ENERGY INC.  200708 2007-08-09     10-Q   \n",
      "..     ...                         ...     ...        ...      ...   \n",
      "122   6201                    AMR CORP  201002 2010-02-17     10-K   \n",
      "123   6201                    AMR CORP  201004 2010-04-21     10-Q   \n",
      "124   6201                    AMR CORP  201007 2010-07-21     10-Q   \n",
      "125   6201                    AMR CORP  201010 2010-10-20     10-Q   \n",
      "126   6260                 ANACOMP INC  199402 1994-02-14     10-Q   \n",
      "127   6260                 ANACOMP INC  199405 1994-05-12     10-Q   \n",
      "128   6260                 ANACOMP INC  199712 1997-12-29     10-K   \n",
      "129   6260                 ANACOMP INC  199802 1998-02-17     10-Q   \n",
      "130   6260                 ANACOMP INC  199805 1998-05-13     10-Q   \n",
      "131   6260                 ANACOMP INC  199808 1998-08-14     10-Q   \n",
      "132   6260                 ANACOMP INC  199812 1998-12-29  10-K405   \n",
      "133   6260                 ANACOMP INC  199902 1999-02-11     10-Q   \n",
      "134   6260                 ANACOMP INC  199905 1999-05-17     10-Q   \n",
      "135   6260                 ANACOMP INC  199908 1999-08-13     10-Q   \n",
      "136  11860   BETHLEHEM STEEL CORP /DE/  199811 1998-11-12     10-Q   \n",
      "137  11860   BETHLEHEM STEEL CORP /DE/  199903 1999-03-24  10-K405   \n",
      "138  11860   BETHLEHEM STEEL CORP /DE/  199905 1999-05-14     10-Q   \n",
      "139  11860   BETHLEHEM STEEL CORP /DE/  199906 1999-06-29   10-K/A   \n",
      "140  11860   BETHLEHEM STEEL CORP /DE/  199908 1999-08-05     10-Q   \n",
      "141  11860   BETHLEHEM STEEL CORP /DE/  199911 1999-11-02     10-Q   \n",
      "142  11860   BETHLEHEM STEEL CORP /DE/  200003 2000-03-09     10-K   \n",
      "143  11860   BETHLEHEM STEEL CORP /DE/  200005 2000-05-03     10-Q   \n",
      "144  11860   BETHLEHEM STEEL CORP /DE/  200006 2000-06-28   10-K/A   \n",
      "145  11860   BETHLEHEM STEEL CORP /DE/  200007 2000-07-26     10-Q   \n",
      "146  11860   BETHLEHEM STEEL CORP /DE/  200010 2000-10-25     10-Q   \n",
      "147  12239                 SPHERIX INC  200704 2007-04-02     10-K   \n",
      "148  12239                 SPHERIX INC  200705 2007-05-16  NT 10-Q   \n",
      "149  12239                 SPHERIX INC  200705 2007-05-18     10-Q   \n",
      "150  12239                 SPHERIX INC  200705 2007-05-23   10-K/A   \n",
      "151  12239                 SPHERIX INC  200708 2007-08-14     10-Q   \n",
      "\n",
      "                                      SECFNAME  \n",
      "0     edgar/data/3662/0000950170-98-000413.txt  \n",
      "1     edgar/data/3662/0000950170-98-001001.txt  \n",
      "2     edgar/data/3662/0000950172-98-000783.txt  \n",
      "3     edgar/data/3662/0000950170-98-002145.txt  \n",
      "4     edgar/data/3662/0000950172-98-001203.txt  \n",
      "5     edgar/data/3662/0000950170-98-002278.txt  \n",
      "6     edgar/data/3662/0000950170-98-002401.txt  \n",
      "7     edgar/data/3662/0000950170-98-002402.txt  \n",
      "8     edgar/data/3662/0000950172-99-000362.txt  \n",
      "9     edgar/data/3662/0000950170-99-000775.txt  \n",
      "10    edgar/data/3662/0000950172-99-000584.txt  \n",
      "11    edgar/data/3662/0000950170-99-001005.txt  \n",
      "12    edgar/data/3662/0000950172-99-001074.txt  \n",
      "13    edgar/data/3662/0000950170-99-001361.txt  \n",
      "14    edgar/data/3662/0000889812-99-003241.txt  \n",
      "15    edgar/data/3662/0000950170-99-001639.txt  \n",
      "16    edgar/data/3662/0000950170-99-001640.txt  \n",
      "17    edgar/data/3662/0000950172-99-001626.txt  \n",
      "18    edgar/data/3662/0000950170-99-001856.txt  \n",
      "19    edgar/data/3982/0000950129-06-002926.txt  \n",
      "20    edgar/data/3982/0000950129-06-004690.txt  \n",
      "21    edgar/data/3982/0000950129-06-005244.txt  \n",
      "22    edgar/data/3982/0000950129-06-007243.txt  \n",
      "23    edgar/data/3982/0000950129-06-007244.txt  \n",
      "24    edgar/data/3982/0000950129-06-007871.txt  \n",
      "25    edgar/data/3982/0000950129-06-009522.txt  \n",
      "26    edgar/data/3982/0000950134-06-023819.txt  \n",
      "27    edgar/data/3982/0000950129-07-001381.txt  \n",
      "28    edgar/data/3982/0000950129-07-002432.txt  \n",
      "29    edgar/data/3982/0000950129-07-003918.txt  \n",
      "..                                         ...  \n",
      "122   edgar/data/6201/0000006201-10-000006.txt  \n",
      "123   edgar/data/6201/0000006201-10-000013.txt  \n",
      "124   edgar/data/6201/0000950123-10-066894.txt  \n",
      "125   edgar/data/6201/0000950123-10-094605.txt  \n",
      "126   edgar/data/6260/0000006260-94-000014.txt  \n",
      "127   edgar/data/6260/0000006260-94-000016.txt  \n",
      "128   edgar/data/6260/0000006260-97-000011.txt  \n",
      "129   edgar/data/6260/0000006260-98-000001.txt  \n",
      "130   edgar/data/6260/0000006260-98-000003.txt  \n",
      "131   edgar/data/6260/0000914121-98-000672.txt  \n",
      "132   edgar/data/6260/0001047469-98-045227.txt  \n",
      "133   edgar/data/6260/0000006260-99-000005.txt  \n",
      "134   edgar/data/6260/0000006260-99-000007.txt  \n",
      "135   edgar/data/6260/0000006260-99-000010.txt  \n",
      "136  edgar/data/11860/0000011860-98-000022.txt  \n",
      "137  edgar/data/11860/0001021408-99-000543.txt  \n",
      "138  edgar/data/11860/0000011860-99-000025.txt  \n",
      "139  edgar/data/11860/0000011860-99-000030.txt  \n",
      "140  edgar/data/11860/0000011860-99-000035.txt  \n",
      "141  edgar/data/11860/0000011860-99-000042.txt  \n",
      "142  edgar/data/11860/0000011860-00-000019.txt  \n",
      "143  edgar/data/11860/0000011860-00-000022.txt  \n",
      "144  edgar/data/11860/0000011860-00-000025.txt  \n",
      "145  edgar/data/11860/0000011860-00-000028.txt  \n",
      "146  edgar/data/11860/0000011860-00-000038.txt  \n",
      "147  edgar/data/12239/0001104659-07-024804.txt  \n",
      "148  edgar/data/12239/0001104659-07-040463.txt  \n",
      "149  edgar/data/12239/0001104659-07-041441.txt  \n",
      "150  edgar/data/12239/0001104659-07-042333.txt  \n",
      "151  edgar/data/12239/0001104659-07-062470.txt  \n",
      "\n",
      "[152 rows x 6 columns]\n"
     ]
    }
   ],
   "source": [
    "my_excel_pd=pd.read_excel('/home/ishaan/Codes/Datasets/BlackCoffer Dataset_practice/cik_list.xlsx',\n",
    "                          converters={'SECFNAME':_urls})\n",
    "my_excel_pd=pd.read_excel('/home/ishaan/Codes/Datasets/BlackCoffer Dataset_practice/cik_list.xlsx',\n",
    "                          converters={'CIK':_CIKS})\n",
    "print my_excel_pd"
   ]
  },
  {
   "cell_type": "code",
   "execution_count": 6,
   "metadata": {
    "collapsed": true
   },
   "outputs": [],
   "source": [
    "my_excel_pd.to_excel('/home/ishaan/Codes/Datasets/BlackCoffer Dataset_practice/new.xlsx',sheet_name='cik_list_ajay',\n",
    "                        startrow=0,startcol=0,index=False)"
   ]
  },
  {
   "cell_type": "code",
   "execution_count": 155,
   "metadata": {
    "collapsed": true
   },
   "outputs": [],
   "source": [
    "my_excel_py=open_workbook('/home/ishaan/Codes/Datasets/BlackCoffer Dataset_practice/cik_list.xlsx',on_demand=True)"
   ]
  },
  {
   "cell_type": "code",
   "execution_count": 156,
   "metadata": {},
   "outputs": [
    {
     "name": "stdout",
     "output_type": "stream",
     "text": [
      "edgar/data/3662/0000950170-98-000413.txt\n",
      "152\n",
      "<class 'pandas.core.series.Series'>\n"
     ]
    }
   ],
   "source": [
    "#my_excel_py['SECFNAME']\n",
    "url_list=my_excel_pd['SECFNAME']\n",
    "print url_list[0]\n",
    "print len(url_list)\n",
    "print type(url_list)"
   ]
  },
  {
   "cell_type": "code",
   "execution_count": 157,
   "metadata": {},
   "outputs": [
    {
     "name": "stdout",
     "output_type": "stream",
     "text": [
      "<type 'unicode'>\n"
     ]
    },
    {
     "name": "stderr",
     "output_type": "stream",
     "text": [
      "/home/ishaan/anaconda2/lib/python2.7/site-packages/ipykernel_launcher.py:5: SettingWithCopyWarning: \n",
      "A value is trying to be set on a copy of a slice from a DataFrame\n",
      "\n",
      "See the caveats in the documentation: http://pandas.pydata.org/pandas-docs/stable/indexing.html#indexing-view-versus-copy\n",
      "  \"\"\"\n"
     ]
    }
   ],
   "source": [
    "#print url_list\n",
    "url_count=0\n",
    "print type(url_list[0])\n",
    "for url in url_list:\n",
    "    url_list[url_count]=\"https://www.sec.gov/Archives/\"+ str(url)\n",
    "    url_count+=1\n",
    "    "
   ]
  },
  {
   "cell_type": "code",
   "execution_count": 158,
   "metadata": {},
   "outputs": [
    {
     "name": "stdout",
     "output_type": "stream",
     "text": [
      "0      https://www.sec.gov/Archives/edgar/data/3662/0...\n",
      "1      https://www.sec.gov/Archives/edgar/data/3662/0...\n",
      "2      https://www.sec.gov/Archives/edgar/data/3662/0...\n",
      "3      https://www.sec.gov/Archives/edgar/data/3662/0...\n",
      "4      https://www.sec.gov/Archives/edgar/data/3662/0...\n",
      "5      https://www.sec.gov/Archives/edgar/data/3662/0...\n",
      "6      https://www.sec.gov/Archives/edgar/data/3662/0...\n",
      "7      https://www.sec.gov/Archives/edgar/data/3662/0...\n",
      "8      https://www.sec.gov/Archives/edgar/data/3662/0...\n",
      "9      https://www.sec.gov/Archives/edgar/data/3662/0...\n",
      "10     https://www.sec.gov/Archives/edgar/data/3662/0...\n",
      "11     https://www.sec.gov/Archives/edgar/data/3662/0...\n",
      "12     https://www.sec.gov/Archives/edgar/data/3662/0...\n",
      "13     https://www.sec.gov/Archives/edgar/data/3662/0...\n",
      "14     https://www.sec.gov/Archives/edgar/data/3662/0...\n",
      "15     https://www.sec.gov/Archives/edgar/data/3662/0...\n",
      "16     https://www.sec.gov/Archives/edgar/data/3662/0...\n",
      "17     https://www.sec.gov/Archives/edgar/data/3662/0...\n",
      "18     https://www.sec.gov/Archives/edgar/data/3662/0...\n",
      "19     https://www.sec.gov/Archives/edgar/data/3982/0...\n",
      "20     https://www.sec.gov/Archives/edgar/data/3982/0...\n",
      "21     https://www.sec.gov/Archives/edgar/data/3982/0...\n",
      "22     https://www.sec.gov/Archives/edgar/data/3982/0...\n",
      "23     https://www.sec.gov/Archives/edgar/data/3982/0...\n",
      "24     https://www.sec.gov/Archives/edgar/data/3982/0...\n",
      "25     https://www.sec.gov/Archives/edgar/data/3982/0...\n",
      "26     https://www.sec.gov/Archives/edgar/data/3982/0...\n",
      "27     https://www.sec.gov/Archives/edgar/data/3982/0...\n",
      "28     https://www.sec.gov/Archives/edgar/data/3982/0...\n",
      "29     https://www.sec.gov/Archives/edgar/data/3982/0...\n",
      "                             ...                        \n",
      "122    https://www.sec.gov/Archives/edgar/data/6201/0...\n",
      "123    https://www.sec.gov/Archives/edgar/data/6201/0...\n",
      "124    https://www.sec.gov/Archives/edgar/data/6201/0...\n",
      "125    https://www.sec.gov/Archives/edgar/data/6201/0...\n",
      "126    https://www.sec.gov/Archives/edgar/data/6260/0...\n",
      "127    https://www.sec.gov/Archives/edgar/data/6260/0...\n",
      "128    https://www.sec.gov/Archives/edgar/data/6260/0...\n",
      "129    https://www.sec.gov/Archives/edgar/data/6260/0...\n",
      "130    https://www.sec.gov/Archives/edgar/data/6260/0...\n",
      "131    https://www.sec.gov/Archives/edgar/data/6260/0...\n",
      "132    https://www.sec.gov/Archives/edgar/data/6260/0...\n",
      "133    https://www.sec.gov/Archives/edgar/data/6260/0...\n",
      "134    https://www.sec.gov/Archives/edgar/data/6260/0...\n",
      "135    https://www.sec.gov/Archives/edgar/data/6260/0...\n",
      "136    https://www.sec.gov/Archives/edgar/data/11860/...\n",
      "137    https://www.sec.gov/Archives/edgar/data/11860/...\n",
      "138    https://www.sec.gov/Archives/edgar/data/11860/...\n",
      "139    https://www.sec.gov/Archives/edgar/data/11860/...\n",
      "140    https://www.sec.gov/Archives/edgar/data/11860/...\n",
      "141    https://www.sec.gov/Archives/edgar/data/11860/...\n",
      "142    https://www.sec.gov/Archives/edgar/data/11860/...\n",
      "143    https://www.sec.gov/Archives/edgar/data/11860/...\n",
      "144    https://www.sec.gov/Archives/edgar/data/11860/...\n",
      "145    https://www.sec.gov/Archives/edgar/data/11860/...\n",
      "146    https://www.sec.gov/Archives/edgar/data/11860/...\n",
      "147    https://www.sec.gov/Archives/edgar/data/12239/...\n",
      "148    https://www.sec.gov/Archives/edgar/data/12239/...\n",
      "149    https://www.sec.gov/Archives/edgar/data/12239/...\n",
      "150    https://www.sec.gov/Archives/edgar/data/12239/...\n",
      "151    https://www.sec.gov/Archives/edgar/data/12239/...\n",
      "Name: SECFNAME, Length: 152, dtype: object\n"
     ]
    }
   ],
   "source": [
    "print url_list"
   ]
  },
  {
   "cell_type": "code",
   "execution_count": 159,
   "metadata": {
    "collapsed": true
   },
   "outputs": [],
   "source": [
    "array1=my_excel_py.sheet_by_index(0)"
   ]
  },
  {
   "cell_type": "code",
   "execution_count": 160,
   "metadata": {},
   "outputs": [
    {
     "name": "stdout",
     "output_type": "stream",
     "text": [
      "[u'SECFNAME', u'edgar/data/3662/0000950170-98-000413.txt', u'edgar/data/3662/0000950170-98-001001.txt', u'edgar/data/3662/0000950172-98-000783.txt', u'edgar/data/3662/0000950170-98-002145.txt', u'edgar/data/3662/0000950172-98-001203.txt', u'edgar/data/3662/0000950170-98-002278.txt', u'edgar/data/3662/0000950170-98-002401.txt', u'edgar/data/3662/0000950170-98-002402.txt', u'edgar/data/3662/0000950172-99-000362.txt', u'edgar/data/3662/0000950170-99-000775.txt', u'edgar/data/3662/0000950172-99-000584.txt', u'edgar/data/3662/0000950170-99-001005.txt', u'edgar/data/3662/0000950172-99-001074.txt', u'edgar/data/3662/0000950170-99-001361.txt', u'edgar/data/3662/0000889812-99-003241.txt', u'edgar/data/3662/0000950170-99-001639.txt', u'edgar/data/3662/0000950170-99-001640.txt', u'edgar/data/3662/0000950172-99-001626.txt', u'edgar/data/3662/0000950170-99-001856.txt', u'edgar/data/3982/0000950129-06-002926.txt', u'edgar/data/3982/0000950129-06-004690.txt', u'edgar/data/3982/0000950129-06-005244.txt', u'edgar/data/3982/0000950129-06-007243.txt', u'edgar/data/3982/0000950129-06-007244.txt', u'edgar/data/3982/0000950129-06-007871.txt', u'edgar/data/3982/0000950129-06-009522.txt', u'edgar/data/3982/0000950134-06-023819.txt', u'edgar/data/3982/0000950129-07-001381.txt', u'edgar/data/3982/0000950129-07-002432.txt', u'edgar/data/3982/0000950129-07-003918.txt', u'edgar/data/3982/0000950129-07-005361.txt', u'edgar/data/3982/0000950129-08-001569.txt', u'edgar/data/3982/0000950129-08-002507.txt', u'edgar/data/4447/0000950123-03-012528.txt', u'edgar/data/4447/0000950123-04-003250.txt', u'edgar/data/4447/0000950123-04-003322.txt', u'edgar/data/4447/0000950123-04-005950.txt', u'edgar/data/4447/0000950123-04-009350.txt', u'edgar/data/4447/0000950123-04-013054.txt', u'edgar/data/4447/0000950123-05-003078.txt', u'edgar/data/4447/0000950123-05-005767.txt', u'edgar/data/4447/0000950123-05-009475.txt', u'edgar/data/4447/0000950123-05-013153.txt', u'edgar/data/4457/0000004457-99-000043.txt', u'edgar/data/4457/0000004457-00-000018.txt', u'edgar/data/4457/0000004457-00-000067.txt', u'edgar/data/4457/0000004457-00-000080.txt', u'edgar/data/4457/0000004457-00-000105.txt', u'edgar/data/4457/0000004457-01-500024.txt', u'edgar/data/4457/0000004457-01-500063.txt', u'edgar/data/4457/0000004457-01-500060.txt', u'edgar/data/4457/0000004457-01-500081.txt', u'edgar/data/4457/0000004457-01-500083.txt', u'edgar/data/4515/0000004515-08-000073.txt', u'edgar/data/4515/0000004515-09-000008.txt', u'edgar/data/4515/0000004515-09-000018.txt', u'edgar/data/4515/0000004515-09-000029.txt', u'edgar/data/4515/0000004515-09-000039.txt', u'edgar/data/4515/0000004515-09-000041.txt', u'edgar/data/4515/0000004515-10-000006.txt', u'edgar/data/4515/0000004515-10-000016.txt', u'edgar/data/4515/0000950123-10-066865.txt', u'edgar/data/4515/0000950123-10-094615.txt', u'edgar/data/4962/0001193125-14-167067.txt', u'edgar/data/4962/0001193125-14-286961.txt', u'edgar/data/5588/0000930661-96-001510.txt', u'edgar/data/5588/0000950134-97-002428.txt', u'edgar/data/5588/0000950134-97-003934.txt', u'edgar/data/5588/0000950134-97-006223.txt', u'edgar/data/5588/0000950134-97-008577.txt', u'edgar/data/5588/0000950134-98-002477.txt', u'edgar/data/5588/0000950134-98-004241.txt', u'edgar/data/5588/0000950134-98-006988.txt', u'edgar/data/5588/0000005588-98-000008.txt', u'edgar/data/5588/0000005588-98-000010.txt', u'edgar/data/5907/0000005907-99-000027.txt', u'edgar/data/5907/0000005907-99-000037.txt', u'edgar/data/5907/0000005907-00-000014.txt', u'edgar/data/5907/0000005907-00-000025.txt', u'edgar/data/5907/0000005907-00-000031.txt', u'edgar/data/5907/0000005907-00-000038.txt', u'edgar/data/5907/0000005907-01-000002.txt', u'edgar/data/5907/0000005907-01-000012.txt', u'edgar/data/5907/0000005907-01-000015.txt', u'edgar/data/5907/0000950123-01-502538.txt', u'edgar/data/5907/0000950123-01-504075.txt', u'edgar/data/5907/0000950123-01-505366.txt', u'edgar/data/5907/0000950123-01-505598.txt', u'edgar/data/6071/0000006071-98-000023.txt', u'edgar/data/6071/0000006071-98-000026.txt', u'edgar/data/6071/0000889812-99-001116.txt', u'edgar/data/6071/0000006071-99-000013.txt', u'edgar/data/6071/0000006071-99-000015.txt', u'edgar/data/6071/0000006071-99-000017.txt', u'edgar/data/6071/0000006071-00-000002.txt', u'edgar/data/6071/0000006071-00-000011.txt', u'edgar/data/6201/0000006201-99-000023.txt', u'edgar/data/6201/0000006201-99-000028.txt', u'edgar/data/6201/0000950134-00-002454.txt', u'edgar/data/6201/0000006201-00-000009.txt', u'edgar/data/6201/0000950134-00-006067.txt', u'edgar/data/6201/0000006201-00-000017.txt', u'edgar/data/6201/0000950134-01-002483.txt', u'edgar/data/6201/0000950134-01-500665.txt', u'edgar/data/6201/0000006201-01-500032.txt', u'edgar/data/6201/0000006201-01-500047.txt', u'edgar/data/6201/0000950134-02-001661.txt', u'edgar/data/6201/0000006201-02-000015.txt', u'edgar/data/6201/0000006201-02-000035.txt', u'edgar/data/6201/0000006201-02-000052.txt', u'edgar/data/6201/0000950134-02-012680.txt', u'edgar/data/6201/0000950134-02-012682.txt', u'edgar/data/6201/0000006201-03-000012.txt', u'edgar/data/6201/0001047469-03-013301.txt', u'edgar/data/6201/0000006201-03-000030.txt', u'edgar/data/6201/0000006201-03-000045.txt', u'edgar/data/6201/0000006201-08-000060.txt', u'edgar/data/6201/0000006201-09-000009.txt', u'edgar/data/6201/0000006201-09-000016.txt', u'edgar/data/6201/0000006201-09-000029.txt', u'edgar/data/6201/0000006201-09-000038.txt', u'edgar/data/6201/0000006201-09-000040.txt', u'edgar/data/6201/0000006201-10-000006.txt', u'edgar/data/6201/0000006201-10-000013.txt', u'edgar/data/6201/0000950123-10-066894.txt', u'edgar/data/6201/0000950123-10-094605.txt', u'edgar/data/6260/0000006260-94-000014.txt', u'edgar/data/6260/0000006260-94-000016.txt', u'edgar/data/6260/0000006260-97-000011.txt', u'edgar/data/6260/0000006260-98-000001.txt', u'edgar/data/6260/0000006260-98-000003.txt', u'edgar/data/6260/0000914121-98-000672.txt', u'edgar/data/6260/0001047469-98-045227.txt', u'edgar/data/6260/0000006260-99-000005.txt', u'edgar/data/6260/0000006260-99-000007.txt', u'edgar/data/6260/0000006260-99-000010.txt', u'edgar/data/11860/0000011860-98-000022.txt', u'edgar/data/11860/0001021408-99-000543.txt', u'edgar/data/11860/0000011860-99-000025.txt', u'edgar/data/11860/0000011860-99-000030.txt', u'edgar/data/11860/0000011860-99-000035.txt', u'edgar/data/11860/0000011860-99-000042.txt', u'edgar/data/11860/0000011860-00-000019.txt', u'edgar/data/11860/0000011860-00-000022.txt', u'edgar/data/11860/0000011860-00-000025.txt', u'edgar/data/11860/0000011860-00-000028.txt', u'edgar/data/11860/0000011860-00-000038.txt', u'edgar/data/12239/0001104659-07-024804.txt', u'edgar/data/12239/0001104659-07-040463.txt', u'edgar/data/12239/0001104659-07-041441.txt', u'edgar/data/12239/0001104659-07-042333.txt', u'edgar/data/12239/0001104659-07-062470.txt']\n"
     ]
    }
   ],
   "source": [
    "print array1.col_values(5)"
   ]
  },
  {
   "cell_type": "code",
   "execution_count": 161,
   "metadata": {},
   "outputs": [
    {
     "name": "stdout",
     "output_type": "stream",
     "text": [
      "153\n"
     ]
    }
   ],
   "source": [
    "url_list=array1.col_values(3)\n",
    "print len(url_list)"
   ]
  },
  {
   "cell_type": "code",
   "execution_count": 162,
   "metadata": {
    "collapsed": true
   },
   "outputs": [],
   "source": [
    "from openpyxl import Workbook\n",
    "from openpyxl import load_workbook"
   ]
  },
  {
   "cell_type": "code",
   "execution_count": 163,
   "metadata": {},
   "outputs": [
    {
     "ename": "TypeError",
     "evalue": "unbound method to_frame() must be called with Series instance as first argument (got list instance instead)",
     "output_type": "error",
     "traceback": [
      "\u001b[0;31m---------------------------------------------------------------------------\u001b[0m",
      "\u001b[0;31mTypeError\u001b[0m                                 Traceback (most recent call last)",
      "\u001b[0;32m<ipython-input-163-4aa4dcb3fee5>\u001b[0m in \u001b[0;36m<module>\u001b[0;34m()\u001b[0m\n\u001b[0;32m----> 1\u001b[0;31m \u001b[0mdf\u001b[0m\u001b[0;34m=\u001b[0m\u001b[0mpd\u001b[0m\u001b[0;34m.\u001b[0m\u001b[0mSeries\u001b[0m\u001b[0;34m.\u001b[0m\u001b[0mto_frame\u001b[0m\u001b[0;34m(\u001b[0m\u001b[0murl_list\u001b[0m\u001b[0;34m)\u001b[0m\u001b[0;34m\u001b[0m\u001b[0m\n\u001b[0m",
      "\u001b[0;31mTypeError\u001b[0m: unbound method to_frame() must be called with Series instance as first argument (got list instance instead)"
     ]
    }
   ],
   "source": [
    "df=pd.Series.to_frame(url_list)"
   ]
  },
  {
   "cell_type": "code",
   "execution_count": null,
   "metadata": {
    "collapsed": true
   },
   "outputs": [],
   "source": [
    "print type(df)"
   ]
  },
  {
   "cell_type": "code",
   "execution_count": null,
   "metadata": {
    "collapsed": true
   },
   "outputs": [],
   "source": [
    "writer=pd.ExcelWriter('/home/ishaan/Codes/Datasets/BlackCoffer Dataset_practice/calc_spread.xlsx',engine='xlsxwriter')"
   ]
  },
  {
   "cell_type": "code",
   "execution_count": null,
   "metadata": {
    "collapsed": true
   },
   "outputs": [],
   "source": [
    "df.to_excel(writer,sheet_name='cik_list_ajay',startrow=1,startcol=1)"
   ]
  },
  {
   "cell_type": "code",
   "execution_count": null,
   "metadata": {
    "collapsed": true
   },
   "outputs": [],
   "source": [
    "writer.save()"
   ]
  },
  {
   "cell_type": "code",
   "execution_count": null,
   "metadata": {
    "collapsed": true
   },
   "outputs": [],
   "source": [
    "writer=pd.ExcelWriter('/home/ishaan/Codes/Datasets/BlackCoffer Dataset_practice/cik_list.xlsx',engine='xlsxwriter')"
   ]
  },
  {
   "cell_type": "code",
   "execution_count": null,
   "metadata": {
    "collapsed": true
   },
   "outputs": [],
   "source": [
    "df.to_excel(writer,sheet_name='cik_list_ajay',startrow=2,startcol=6)"
   ]
  },
  {
   "cell_type": "code",
   "execution_count": null,
   "metadata": {
    "collapsed": true
   },
   "outputs": [],
   "source": [
    "writer.save()"
   ]
  },
  {
   "cell_type": "code",
   "execution_count": null,
   "metadata": {
    "collapsed": true
   },
   "outputs": [],
   "source": [
    "import numpy as np \n",
    "url_list_np=np.array(url_list)"
   ]
  },
  {
   "cell_type": "code",
   "execution_count": null,
   "metadata": {
    "collapsed": true
   },
   "outputs": [],
   "source": [
    "print url_list_np"
   ]
  },
  {
   "cell_type": "code",
   "execution_count": null,
   "metadata": {
    "collapsed": true
   },
   "outputs": [],
   "source": [
    "print type(my_excel_py)\n",
    "copy_excel=copy(my_excel_py)"
   ]
  },
  {
   "cell_type": "code",
   "execution_count": null,
   "metadata": {
    "collapsed": true
   },
   "outputs": [],
   "source": [
    "excel_sheet=my_excel_py.get_sheet\n",
    "print excel_sheet"
   ]
  },
  {
   "cell_type": "code",
   "execution_count": null,
   "metadata": {
    "collapsed": true
   },
   "outputs": [],
   "source": [
    "excel_sheet.write(2,6,\"url\")"
   ]
  },
  {
   "cell_type": "code",
   "execution_count": null,
   "metadata": {
    "collapsed": true
   },
   "outputs": [],
   "source": []
  }
 ],
 "metadata": {
  "kernelspec": {
   "display_name": "Python 3",
   "language": "python",
   "name": "python3"
  },
  "language_info": {
   "codemirror_mode": {
    "name": "ipython",
    "version": 3
   },
   "file_extension": ".py",
   "mimetype": "text/x-python",
   "name": "python",
   "nbconvert_exporter": "python",
   "pygments_lexer": "ipython3",
   "version": "3.6.4"
  }
 },
 "nbformat": 4,
 "nbformat_minor": 2
}
